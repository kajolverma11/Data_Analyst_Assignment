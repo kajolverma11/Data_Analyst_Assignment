{
  "cells": [
    {
      "cell_type": "code",
      "source": [
        "pip install selenium"
      ],
      "metadata": {
        "colab": {
          "base_uri": "https://localhost:8080/"
        },
        "id": "We71alTu3z8q",
        "outputId": "60e754b6-3d53-43a9-d77e-7240098a5df9"
      },
      "id": "We71alTu3z8q",
      "execution_count": 1,
      "outputs": [
        {
          "output_type": "stream",
          "name": "stdout",
          "text": [
            "Collecting selenium\n",
            "  Downloading selenium-4.10.0-py3-none-any.whl (6.7 MB)\n",
            "\u001b[2K     \u001b[90m━━━━━━━━━━━━━━━━━━━━━━━━━━━━━━━━━━━━━━━━\u001b[0m \u001b[32m6.7/6.7 MB\u001b[0m \u001b[31m62.6 MB/s\u001b[0m eta \u001b[36m0:00:00\u001b[0m\n",
            "\u001b[?25hRequirement already satisfied: urllib3[socks]<3,>=1.26 in /usr/local/lib/python3.10/dist-packages (from selenium) (1.26.16)\n",
            "Collecting trio~=0.17 (from selenium)\n",
            "  Downloading trio-0.22.1-py3-none-any.whl (399 kB)\n",
            "\u001b[2K     \u001b[90m━━━━━━━━━━━━━━━━━━━━━━━━━━━━━━━━━━━━━━\u001b[0m \u001b[32m399.3/399.3 kB\u001b[0m \u001b[31m40.1 MB/s\u001b[0m eta \u001b[36m0:00:00\u001b[0m\n",
            "\u001b[?25hCollecting trio-websocket~=0.9 (from selenium)\n",
            "  Downloading trio_websocket-0.10.3-py3-none-any.whl (17 kB)\n",
            "Requirement already satisfied: certifi>=2021.10.8 in /usr/local/lib/python3.10/dist-packages (from selenium) (2023.5.7)\n",
            "Requirement already satisfied: attrs>=20.1.0 in /usr/local/lib/python3.10/dist-packages (from trio~=0.17->selenium) (23.1.0)\n",
            "Requirement already satisfied: sortedcontainers in /usr/local/lib/python3.10/dist-packages (from trio~=0.17->selenium) (2.4.0)\n",
            "Requirement already satisfied: idna in /usr/local/lib/python3.10/dist-packages (from trio~=0.17->selenium) (3.4)\n",
            "Collecting outcome (from trio~=0.17->selenium)\n",
            "  Downloading outcome-1.2.0-py2.py3-none-any.whl (9.7 kB)\n",
            "Requirement already satisfied: sniffio in /usr/local/lib/python3.10/dist-packages (from trio~=0.17->selenium) (1.3.0)\n",
            "Requirement already satisfied: exceptiongroup>=1.0.0rc9 in /usr/local/lib/python3.10/dist-packages (from trio~=0.17->selenium) (1.1.1)\n",
            "Collecting wsproto>=0.14 (from trio-websocket~=0.9->selenium)\n",
            "  Downloading wsproto-1.2.0-py3-none-any.whl (24 kB)\n",
            "Requirement already satisfied: PySocks!=1.5.7,<2.0,>=1.5.6 in /usr/local/lib/python3.10/dist-packages (from urllib3[socks]<3,>=1.26->selenium) (1.7.1)\n",
            "Collecting h11<1,>=0.9.0 (from wsproto>=0.14->trio-websocket~=0.9->selenium)\n",
            "  Downloading h11-0.14.0-py3-none-any.whl (58 kB)\n",
            "\u001b[2K     \u001b[90m━━━━━━━━━━━━━━━━━━━━━━━━━━━━━━━━━━━━━━━━\u001b[0m \u001b[32m58.3/58.3 kB\u001b[0m \u001b[31m7.8 MB/s\u001b[0m eta \u001b[36m0:00:00\u001b[0m\n",
            "\u001b[?25hInstalling collected packages: outcome, h11, wsproto, trio, trio-websocket, selenium\n",
            "Successfully installed h11-0.14.0 outcome-1.2.0 selenium-4.10.0 trio-0.22.1 trio-websocket-0.10.3 wsproto-1.2.0\n"
          ]
        }
      ]
    },
    {
      "cell_type": "code",
      "source": [
        "import time\n",
        "import urllib.request\n",
        "from selenium import webdriver\n",
        "from selenium.webdriver.chrome.service import Service\n",
        "from selenium.webdriver.common.by import By\n",
        "import os"
      ],
      "metadata": {
        "id": "HrUgqDL64bVc"
      },
      "id": "HrUgqDL64bVc",
      "execution_count": 2,
      "outputs": []
    },
    {
      "cell_type": "code",
      "execution_count": null,
      "id": "da6c286a",
      "metadata": {
        "id": "da6c286a",
        "outputId": "774662f9-7816-4978-fc70-763ee41a88de"
      },
      "outputs": [
        {
          "name": "stdout",
          "output_type": "stream",
          "text": [
            "Enter the keyword: Kapil Sharma\n",
            "Downloaded image 1\n",
            "Downloaded image 2\n",
            "Downloaded image 3\n",
            "Downloaded image 4\n",
            "Downloaded image 5\n",
            "Downloaded image 6\n",
            "Downloaded image 7\n",
            "Downloaded image 8\n",
            "Downloaded image 9\n",
            "Downloaded image 10\n",
            "Downloaded image 11\n",
            "Downloaded image 12\n",
            "Downloaded image 13\n",
            "Downloaded image 14\n",
            "Downloaded image 15\n",
            "Downloaded image 16\n",
            "Downloaded image 17\n",
            "Downloaded image 18\n",
            "Downloaded image 19\n",
            "Downloaded image 20\n",
            "Downloaded image 21\n",
            "Downloaded image 22\n",
            "Downloaded image 23\n",
            "Downloaded image 24\n",
            "Downloaded image 25\n",
            "Downloaded image 26\n",
            "Downloaded image 27\n",
            "Downloaded image 28\n",
            "Downloaded image 29\n",
            "Downloaded image 30\n",
            "Downloaded image 31\n",
            "Downloaded image 32\n",
            "Downloaded image 33\n",
            "Downloaded image 34\n",
            "Downloaded image 35\n",
            "Downloaded image 36\n",
            "Downloaded image 37\n",
            "Downloaded image 38\n",
            "Downloaded image 39\n",
            "Downloaded image 40\n",
            "Downloaded image 41\n",
            "Downloaded image 42\n",
            "Downloaded image 43\n",
            "Downloaded image 44\n",
            "Downloaded image 45\n",
            "Downloaded image 46\n",
            "Downloaded image 47\n"
          ]
        }
      ],
      "source": [
        "def download_images(keyword, num_images):\n",
        "    # Create a directory to store the downloaded images\n",
        "    if not os.path.exists(keyword):\n",
        "        os.makedirs(keyword)\n",
        "\n",
        "    # Configure the Selenium Chrome driver\n",
        "    service = Service('C:/Users/Kajol verma/anaconda3/Lib/site-packages/chromedriver.exe')\n",
        "    driver = webdriver.Chrome(service=service)\n",
        "\n",
        "    # Open the browser and navigate to Google Images\n",
        "    driver.get(f\"https://www.google.com/search?q={keyword}&tbm=isch\")\n",
        "\n",
        "    # Scroll down to load more images\n",
        "    last_height = driver.execute_script(\"return document.body.scrollHeight\")\n",
        "    while len(driver.find_elements(By.XPATH, '//img[@class=\"rg_i Q4LuWd\"]')) < num_images:\n",
        "        driver.execute_script(\"window.scrollTo(0, document.body.scrollHeight);\")\n",
        "        time.sleep(2)\n",
        "        new_height = driver.execute_script(\"return document.body.scrollHeight\")\n",
        "        if new_height == last_height:\n",
        "            break\n",
        "        last_height = new_height\n",
        "\n",
        "    # Find the image elements\n",
        "    image_elements = driver.find_elements(By.XPATH, '//img[@class=\"rg_i Q4LuWd\"]')\n",
        "\n",
        "    count = 0\n",
        "    for image_element in image_elements[:num_images]:\n",
        "        # Get the image source URL\n",
        "        image_url = image_element.get_attribute(\"src\")\n",
        "\n",
        "        if image_url:\n",
        "            try:\n",
        "                # Download the image\n",
        "                urllib.request.urlretrieve(image_url, f\"{keyword}/{count}.jpg\")\n",
        "                count += 1\n",
        "                print(f\"Downloaded image {count}\")\n",
        "            except Exception as e:\n",
        "                print(f\"Failed to download image: {e}\")\n",
        "\n",
        "    # Close the browser\n",
        "    driver.quit()\n",
        "\n",
        "# Prompt the user for the keyword and the number of images to download\n",
        "keyword = input(\"Enter the keyword: \")\n",
        "num_images = 50\n",
        "\n",
        "# Call the function to download the images\n",
        "download_images(keyword, num_images)"
      ]
    },
    {
      "cell_type": "code",
      "execution_count": null,
      "id": "4edaf3f4",
      "metadata": {
        "id": "4edaf3f4"
      },
      "outputs": [],
      "source": []
    }
  ],
  "metadata": {
    "kernelspec": {
      "display_name": "Python 3 (ipykernel)",
      "language": "python",
      "name": "python3"
    },
    "language_info": {
      "codemirror_mode": {
        "name": "ipython",
        "version": 3
      },
      "file_extension": ".py",
      "mimetype": "text/x-python",
      "name": "python",
      "nbconvert_exporter": "python",
      "pygments_lexer": "ipython3",
      "version": "3.9.16"
    },
    "colab": {
      "provenance": []
    }
  },
  "nbformat": 4,
  "nbformat_minor": 5
}